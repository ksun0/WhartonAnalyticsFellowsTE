{
 "cells": [
  {
   "cell_type": "code",
   "execution_count": 163,
   "metadata": {},
   "outputs": [],
   "source": [
    "import re"
   ]
  },
  {
   "cell_type": "code",
   "execution_count": 164,
   "metadata": {},
   "outputs": [],
   "source": [
    "def largestnum(n):\n",
    "    return re.sub(r\"^(-[0-5]*|[5-9]*)(.*)$\" ,\"$15$2\")"
   ]
  },
  {
   "cell_type": "code",
   "execution_count": 261,
   "metadata": {},
   "outputs": [],
   "source": [
    "def myfunc2(n):\n",
    "    mylist = [int(d) for d in str(abs(n))]\n",
    "    if len(mylist) == 1:\n",
    "        if n > 5:\n",
    "            mylist.insert(1,5)\n",
    "            num = int(''.join(map(str,mylist)))\n",
    "        elif n <= 5 and n >= 0:\n",
    "            mylist.insert(0,5)\n",
    "            num = int(''.join(map(str,mylist)))\n",
    "        elif n <= -5:\n",
    "            mylist.insert(0,5)\n",
    "            num = -int(''.join(map(str,mylist)))\n",
    "        else: \n",
    "            mylist.insert(1,5)\n",
    "            num = -int(''.join(map(str,mylist)))\n",
    "    elif len(mylist) != 1:\n",
    "        if n > 0:\n",
    "            for i in range(len(mylist)-1):\n",
    "                curr = mylist[i]\n",
    "                nxt = mylist[i+1]\n",
    "                if curr >= 5 & nxt <= 5:\n",
    "                    mylist.insert(i,5)\n",
    "                    num = int(''.join(map(str,mylist)))\n",
    "                    break\n",
    "        elif n < 0:\n",
    "            for i in range(len(mylist)-1):\n",
    "                curr = mylist[i]\n",
    "                nxt  = mylist[i+1]\n",
    "                if curr > 5:\n",
    "                    mylist.insert(i,5)\n",
    "                    num = -int(''.join(map(str,mylist)))\n",
    "                    break\n",
    "                elif curr <= 5 and 5 <= nxt: #i.e. -56\n",
    "                    mylist.insert(i+1,5)\n",
    "                    num = -int(''.join(map(str,mylist)))\n",
    "                elif curr<=5 and 5 > nxt:\n",
    "                    mylist.insert(i+1,5)\n",
    "                    num = -int(''.join(map(str,mylist)))\n",
    "                    break\n",
    "    return num"
   ]
  },
  {
   "cell_type": "code",
   "execution_count": 242,
   "metadata": {},
   "outputs": [],
   "source": [
    "def myfunc3(n):\n",
    "    mylist = [int(d) for d in str(abs(n))]\n",
    "    if len(mylist) == 1:\n",
    "        if n > 5:\n",
    "            mylist.insert(1,5)\n",
    "            num = int(''.join(map(str,mylist)))\n",
    "        elif n <= 5 and n >= 0:\n",
    "            mylist.insert(0,5)\n",
    "            num = int(''.join(map(str,mylist)))\n",
    "        elif n <= -5:\n",
    "            mylist.insert(0,5)\n",
    "            num = -int(''.join(map(str,mylist)))\n",
    "        else: \n",
    "            mylist.insert(1,5)\n",
    "            num = -int(''.join(map(str,mylist)))\n",
    "    return num"
   ]
  },
  {
   "cell_type": "code",
   "execution_count": 266,
   "metadata": {},
   "outputs": [
    {
     "ename": "UnboundLocalError",
     "evalue": "local variable 'num' referenced before assignment",
     "output_type": "error",
     "traceback": [
      "\u001b[0;31m---------------------------------------------------------------------------\u001b[0m",
      "\u001b[0;31mUnboundLocalError\u001b[0m                         Traceback (most recent call last)",
      "\u001b[0;32m<ipython-input-266-25fd5dfd74b8>\u001b[0m in \u001b[0;36m<module>\u001b[0;34m\u001b[0m\n\u001b[0;32m----> 1\u001b[0;31m \u001b[0mmyfunc3\u001b[0m\u001b[0;34m(\u001b[0m\u001b[0;36m334\u001b[0m\u001b[0;34m)\u001b[0m\u001b[0;34m\u001b[0m\u001b[0;34m\u001b[0m\u001b[0m\n\u001b[0m",
      "\u001b[0;32m<ipython-input-242-794559176893>\u001b[0m in \u001b[0;36mmyfunc3\u001b[0;34m(n)\u001b[0m\n\u001b[1;32m     14\u001b[0m             \u001b[0mmylist\u001b[0m\u001b[0;34m.\u001b[0m\u001b[0minsert\u001b[0m\u001b[0;34m(\u001b[0m\u001b[0;36m1\u001b[0m\u001b[0;34m,\u001b[0m\u001b[0;36m5\u001b[0m\u001b[0;34m)\u001b[0m\u001b[0;34m\u001b[0m\u001b[0;34m\u001b[0m\u001b[0m\n\u001b[1;32m     15\u001b[0m             \u001b[0mnum\u001b[0m \u001b[0;34m=\u001b[0m \u001b[0;34m-\u001b[0m\u001b[0mint\u001b[0m\u001b[0;34m(\u001b[0m\u001b[0;34m''\u001b[0m\u001b[0;34m.\u001b[0m\u001b[0mjoin\u001b[0m\u001b[0;34m(\u001b[0m\u001b[0mmap\u001b[0m\u001b[0;34m(\u001b[0m\u001b[0mstr\u001b[0m\u001b[0;34m,\u001b[0m\u001b[0mmylist\u001b[0m\u001b[0;34m)\u001b[0m\u001b[0;34m)\u001b[0m\u001b[0;34m)\u001b[0m\u001b[0;34m\u001b[0m\u001b[0;34m\u001b[0m\u001b[0m\n\u001b[0;32m---> 16\u001b[0;31m     \u001b[0;32mreturn\u001b[0m \u001b[0mnum\u001b[0m\u001b[0;34m\u001b[0m\u001b[0;34m\u001b[0m\u001b[0m\n\u001b[0m",
      "\u001b[0;31mUnboundLocalError\u001b[0m: local variable 'num' referenced before assignment"
     ]
    }
   ],
   "source": [
    "myfunc3(334)"
   ]
  },
  {
   "cell_type": "code",
   "execution_count": 264,
   "metadata": {},
   "outputs": [
    {
     "data": {
      "text/plain": [
       "532"
      ]
     },
     "execution_count": 264,
     "metadata": {},
     "output_type": "execute_result"
    }
   ],
   "source": [
    "myfunc2(32)"
   ]
  },
  {
   "cell_type": "code",
   "execution_count": 213,
   "metadata": {},
   "outputs": [
    {
     "ename": "UnboundLocalError",
     "evalue": "local variable 'num' referenced before assignment",
     "output_type": "error",
     "traceback": [
      "\u001b[0;31m---------------------------------------------------------------------------\u001b[0m",
      "\u001b[0;31mUnboundLocalError\u001b[0m                         Traceback (most recent call last)",
      "\u001b[0;32m<ipython-input-213-8a2489f3550c>\u001b[0m in \u001b[0;36m<module>\u001b[0;34m\u001b[0m\n\u001b[0;32m----> 1\u001b[0;31m \u001b[0mmyfunc\u001b[0m\u001b[0;34m(\u001b[0m\u001b[0;36m4\u001b[0m\u001b[0;34m)\u001b[0m\u001b[0;31m# -44 doesnt work\u001b[0m\u001b[0;34m\u001b[0m\u001b[0;34m\u001b[0m\u001b[0m\n\u001b[0m",
      "\u001b[0;32m<ipython-input-165-7c4f251eeb6d>\u001b[0m in \u001b[0;36mmyfunc\u001b[0;34m(n)\u001b[0m\n\u001b[1;32m     25\u001b[0m     \u001b[0;32melse\u001b[0m\u001b[0;34m:\u001b[0m\u001b[0;34m\u001b[0m\u001b[0;34m\u001b[0m\u001b[0m\n\u001b[1;32m     26\u001b[0m         \u001b[0mnum\u001b[0m \u001b[0;34m=\u001b[0m \u001b[0;36m50\u001b[0m\u001b[0;34m\u001b[0m\u001b[0;34m\u001b[0m\u001b[0m\n\u001b[0;32m---> 27\u001b[0;31m     \u001b[0;32mreturn\u001b[0m \u001b[0mnum\u001b[0m\u001b[0;34m\u001b[0m\u001b[0;34m\u001b[0m\u001b[0m\n\u001b[0m",
      "\u001b[0;31mUnboundLocalError\u001b[0m: local variable 'num' referenced before assignment"
     ]
    }
   ],
   "source": [
    "myfunc(4)# -44 doesnt work "
   ]
  },
  {
   "cell_type": "code",
   "execution_count": 53,
   "metadata": {},
   "outputs": [],
   "source": [
    "def largestIntAddDigit5(n):\n",
    "    s = str(n)\n",
    "    return int(re.sub(r\"^(-[0-5]*|[5-9]*)(.*)$\", r\"15$2\", s))"
   ]
  },
  {
   "cell_type": "code",
   "execution_count": 96,
   "metadata": {},
   "outputs": [],
   "source": [
    "mylist = [int(d) for d in str(abs(-90))]"
   ]
  },
  {
   "cell_type": "code",
   "execution_count": 98,
   "metadata": {},
   "outputs": [
    {
     "data": {
      "text/plain": [
       "range(0, 2)"
      ]
     },
     "execution_count": 98,
     "metadata": {},
     "output_type": "execute_result"
    }
   ],
   "source": [
    "range(len(mylist))"
   ]
  },
  {
   "cell_type": "code",
   "execution_count": null,
   "metadata": {},
   "outputs": [],
   "source": [
    " if num is None:\n",
    "        return 5\n",
    "\n",
    "    # < 0 or not\n",
    "    flag = False\n",
    "    if num < 0:\n",
    "        flag = True\n",
    "        num *= -1\n",
    "\n",
    "    s = str(num)\n",
    "\n",
    "    if not flag:\n",
    "        i = 0\n",
    "        while i < len(s) - 1:\n",
    "             if s[i] > '5' and s[i + 1] <= '5' :\n",
    "                res = int(s[:i + 1] + '5' + s[i + 1:])\n",
    "                return res\n",
    "             i += 1\n",
    "        if s[i] > '5':\n",
    "            res = int(s + '5')\n",
    "            return res\n",
    "        else:\n",
    "            res = int('5' + s)\n",
    "            return res\n",
    "         else:\n",
    "            if s[0] > '5':\n",
    "                res = int('5' + s)\n",
    "                return res * -1\n",
    "\n",
    "            i = 0\n",
    "            while i < len(s) - 1:\n",
    "                if s[i] <= '5' and s[i + 1] > '5':\n",
    "                    res = int(s[:i + 1] + '5' + s[i + 1:])\n",
    "                    return res * -1\n",
    "                i += 1\n",
    "\n",
    "            if s[-1] < '5':\n",
    "                res = int(s + '5')\n",
    "                return res * -1\n",
    "            else:\n",
    "                res = int('5' + s)\n",
    "                return res * -1"
   ]
  }
 ],
 "metadata": {
  "kernelspec": {
   "display_name": "Python 3",
   "language": "python",
   "name": "python3"
  },
  "language_info": {
   "codemirror_mode": {
    "name": "ipython",
    "version": 3
   },
   "file_extension": ".py",
   "mimetype": "text/x-python",
   "name": "python",
   "nbconvert_exporter": "python",
   "pygments_lexer": "ipython3",
   "version": "3.7.3"
  }
 },
 "nbformat": 4,
 "nbformat_minor": 2
}
